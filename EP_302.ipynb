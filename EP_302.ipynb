{
  "nbformat": 4,
  "nbformat_minor": 0,
  "metadata": {
    "colab": {
      "provenance": [],
      "authorship_tag": "ABX9TyPBTAlWQgwh2d8z/jixrjck",
      "include_colab_link": true
    },
    "kernelspec": {
      "name": "python3",
      "display_name": "Python 3"
    },
    "language_info": {
      "name": "python"
    }
  },
  "cells": [
    {
      "cell_type": "markdown",
      "metadata": {
        "id": "view-in-github",
        "colab_type": "text"
      },
      "source": [
        "<a href=\"https://colab.research.google.com/github/bhanushri123/NumericalMethods/blob/main/EP_302.ipynb\" target=\"_parent\"><img src=\"https://colab.research.google.com/assets/colab-badge.svg\" alt=\"Open In Colab\"/></a>"
      ]
    },
    {
      "cell_type": "markdown",
      "source": [
        "###Assignment1_Q1\n"
      ],
      "metadata": {
        "id": "0l6tgzA3pCug"
      }
    },
    {
      "cell_type": "code",
      "source": [
        "# defined a function which is recursive in nature\n",
        "# takes n a non-negative  integer as input\n",
        "def Fact(n):\n",
        "\n",
        "\n",
        "  if(n<0):\n",
        "    print(\"Error\")\n",
        "  elif(n==0):\n",
        "    return 1\n",
        "  elif(n==1):\n",
        "    return 1\n",
        "  else:\n",
        "    return n*Fact(n-1)\n"
      ],
      "metadata": {
        "id": "P9ydiA2Iqajn"
      },
      "execution_count": null,
      "outputs": []
    },
    {
      "cell_type": "code",
      "source": [
        "# testing the function using known values\n",
        "\n",
        "\n",
        "# print(Fact(0))\n",
        "# print(Fact(1))\n",
        "print(Fact(6))\n"
      ],
      "metadata": {
        "colab": {
          "base_uri": "https://localhost:8080/"
        },
        "id": "rQk5pDUOsc5s",
        "outputId": "d3e39066-37a9-4848-9085-7e6f9cbccece"
      },
      "execution_count": null,
      "outputs": [
        {
          "output_type": "stream",
          "name": "stdout",
          "text": [
            "720\n"
          ]
        }
      ]
    },
    {
      "cell_type": "markdown",
      "source": [
        "###Q2\n"
      ],
      "metadata": {
        "id": "7nVFzgwErp15"
      }
    },
    {
      "cell_type": "markdown",
      "source": [
        "Defining the function"
      ],
      "metadata": {
        "id": "Omz6GppIyZ9o"
      }
    },
    {
      "cell_type": "code",
      "source": [
        "import math\n",
        "import matplotlib.pyplot as plt # importing the necessary  libraries for ploting and using math\n",
        "\n",
        "def func(x,y):#defining a function that accepts two inputs and returns values\n",
        "  if(x<y):\n",
        "    return (x+pow(y,2))\n",
        "  elif(x>y):\n",
        "    return (pow(x,2)+y)\n",
        "  elif(x==y):\n",
        "    return 2\n",
        "# ploting the values using the ibrary matplotlib.pyplot\n",
        "\n",
        "\n",
        "\n",
        "\n",
        "\n",
        "\n"
      ],
      "metadata": {
        "id": "5gA42AuVqxzC"
      },
      "execution_count": null,
      "outputs": []
    },
    {
      "cell_type": "code",
      "source": [
        "print(func(2,3),func(3,2))\n",
        "'''the function returns same value even if we exchange the values of  x\n",
        " and y and thus the function is symmetric'''"
      ],
      "metadata": {
        "colab": {
          "base_uri": "https://localhost:8080/"
        },
        "id": "mYf6y5qMsCBm",
        "outputId": "27898551-37c0-4682-cedb-86e0ec630902"
      },
      "execution_count": null,
      "outputs": [
        {
          "output_type": "stream",
          "name": "stdout",
          "text": [
            "11 11\n"
          ]
        }
      ]
    },
    {
      "cell_type": "markdown",
      "source": [
        "###(a)f(x,C) taking C ∈ {1,2,3,4} & x ∈ [−2,2]"
      ],
      "metadata": {
        "id": "T9s7a4yuyQPb"
      }
    },
    {
      "cell_type": "code",
      "source": [
        "# (a)f(x,C) taking C ∈ {1,2,3,4} & x ∈ [−2,2]\n",
        "# making a list of 100 numbers between -2 and 2\n",
        "\n",
        "C = [1,2,3,4] #defining the list C\n",
        "len_lst = 100 #defining the length of list required\n",
        "lower_lmt = -2\n",
        "upper_lmt = 2\n",
        "\n",
        "x = [lower_lmt + (upper_lmt - lower_lmt)/len_lst*i for i in range(0,len_lst+1)]\n",
        "\n",
        "#ploting the graph for\n",
        "for i in C:\n",
        "  y_val = [func(xs,i) for xs in x]\n",
        "  plt.plot(x,y_val)\n",
        "  plt.xlabel(\"X_val\")\n",
        "  plt.ylabel(\"C_val\")\n",
        "  plt.legend(['C_1', 'C_2', 'C_3','C_4'])"
      ],
      "metadata": {
        "colab": {
          "base_uri": "https://localhost:8080/",
          "height": 450
        },
        "id": "N-blkvGSyRjp",
        "outputId": "47d3bc47-e7a1-4d36-9b79-cad330958870"
      },
      "execution_count": null,
      "outputs": [
        {
          "output_type": "display_data",
          "data": {
            "text/plain": [
              "<Figure size 640x480 with 1 Axes>"
            ],
            "image/png": "[encoded data removed]"
          },
          "metadata": {}
        }
      ]
    },
    {
      "cell_type": "markdown",
      "source": [
        "###(b) f(C,y) taking again C ∈ {1,2,3,4} & y ∈ [−2,2].\n"
      ],
      "metadata": {
        "id": "KeDlfUEvyj4g"
      }
    },
    {
      "cell_type": "code",
      "source": [
        "# (a)f(x,C) taking C ∈ {1,2,3,4} & x ∈ [−2,2]\n",
        "# making a list of 100 numbers between -2 and 2\n",
        "\n",
        "C = [1,2,3,4] #defining the list C\n",
        "len_lst = 100 #defining the length of list required\n",
        "lower_lmt = -2\n",
        "upper_lmt = 2\n",
        "\n",
        "y = [lower_lmt + (upper_lmt - lower_lmt)/len_lst*i for i in range(0,len_lst+1)]\n",
        "\n",
        "\n",
        "# Plot the graph\n",
        "for i in C:\n",
        "    # Calculate the f(C, y) values for the given C value\n",
        "    f_values = [func(i, yi) for yi in y]\n",
        "    plt.plot(y, f_values, label=f'C = {i}')\n",
        "    plt.xlabel(\"C_val\")\n",
        "    plt.ylabel(\"y_val\")\n",
        "    # plt.legend(['C_1', 'C_2', 'C_3','C_4'])"
      ],
      "metadata": {
        "colab": {
          "base_uri": "https://localhost:8080/",
          "height": 450
        },
        "id": "yy-RNkDKsjfG",
        "outputId": "2a0a3bf4-3f01-4a00-b2d7-796110e4e497"
      },
      "execution_count": null,
      "outputs": [
        {
          "output_type": "display_data",
          "data": {
            "text/plain": [
              "<Figure size 640x480 with 1 Axes>"
            ],
            "image/png": "[encoded data removed]"
          },
          "metadata": {}
        }
      ]
    },
    {
      "cell_type": "markdown",
      "source": [
        "###Q3\n"
      ],
      "metadata": {
        "id": "_7cUPDf00Tuh"
      }
    },
    {
      "cell_type": "code",
      "source": [
        "#Given information\n",
        "ska = {'name' :'skao',\n",
        "'Ttot' :3.6*10**7, #observation time in seconds\n",
        "       'fSky' :0.48 #Sky Fraction\n",
        "}\n",
        "hirax = {'name' :'hirax',\n",
        "'Ttot' :6.3*10**7, #observation time in seconds\n",
        "         'fSky':0.36 #Sky Fraction\n",
        "}\n",
        "\n"
      ],
      "metadata": {
        "id": "VJt58ngqyuHB"
      },
      "execution_count": null,
      "outputs": []
    },
    {
      "cell_type": "markdown",
      "source": [
        "now defining a function for calculation of N =C2πfSky/tTot"
      ],
      "metadata": {
        "id": "bTc70rYM0xSr"
      }
    },
    {
      "cell_type": "code",
      "source": [
        "import math as mt\n",
        "import numpy as np\n",
        "#given dictionaries of upcoming radio telescope arrays output is the noise power spectrum\n",
        "\n",
        "def noise(dict,C=1):\n",
        "  return (C * 2 * mt.pi * dict['fSky'] / dict['Ttot'])\n",
        "\n",
        "\n",
        "\n"
      ],
      "metadata": {
        "id": "3xj0L7Nq05ux"
      },
      "execution_count": null,
      "outputs": []
    },
    {
      "cell_type": "code",
      "source": [
        "noise(ska,1)\n",
        "noise(hirax,1)"
      ],
      "metadata": {
        "colab": {
          "base_uri": "https://localhost:8080/"
        },
        "id": "xKmgkEZp2G8T",
        "outputId": "7836c4b5-84cf-4038-d38b-7c1c3f52a243"
      },
      "execution_count": null,
      "outputs": [
        {
          "output_type": "execute_result",
          "data": {
            "text/plain": [
              "3.590391604102621e-08"
            ]
          },
          "metadata": {},
          "execution_count": 50
        }
      ]
    },
    {
      "cell_type": "markdown",
      "source": [
        "###Assignment 2\n"
      ],
      "metadata": {
        "id": "N_hl-lr-faUe"
      }
    },
    {
      "cell_type": "code",
      "source": [
        "def UpTrian(A):\n",
        "  n = len(A)\n",
        "  upper_tri = []\n",
        "  for i in range(n):\n",
        "    ele = A[i][i:]\n",
        "    upper_tri.extend(ele)\n",
        "  return upper_tri"
      ],
      "metadata": {
        "id": "9bJFYBxY2JwR"
      },
      "execution_count": null,
      "outputs": []
    },
    {
      "cell_type": "code",
      "source": [
        "def LowTrian(A):\n",
        "  n = len(A)\n",
        "  lower_tri = []\n",
        "  for i in range(n):\n",
        "    ele = A[i][:i+1]\n",
        "    lower_tri.extend(ele)\n",
        "  return lower_tri"
      ],
      "metadata": {
        "id": "yajmS7_cG_xV"
      },
      "execution_count": null,
      "outputs": []
    },
    {
      "cell_type": "code",
      "source": [
        "UpTrian([[1,2,3],[4,5,6],[7,8,9]])"
      ],
      "metadata": {
        "colab": {
          "base_uri": "https://localhost:8080/"
        },
        "id": "uVlPIPkMIzKm",
        "outputId": "81aa176b-b318-49e8-86e3-a28f8279c27b"
      },
      "execution_count": null,
      "outputs": [
        {
          "output_type": "execute_result",
          "data": {
            "text/plain": [
              "[1, 2, 3, 5, 6, 9]"
            ]
          },
          "metadata": {},
          "execution_count": 6
        }
      ]
    },
    {
      "cell_type": "code",
      "source": [
        "LowTrian([[1,2,3],[4,5,6],[7,8,9]])"
      ],
      "metadata": {
        "colab": {
          "base_uri": "https://localhost:8080/"
        },
        "id": "RnNbjoIzKFh8",
        "outputId": "26aa0811-467f-4bf9-e9f2-6829045cc8ce"
      },
      "execution_count": null,
      "outputs": [
        {
          "output_type": "execute_result",
          "data": {
            "text/plain": [
              "[1, 4, 5, 7, 8, 9]"
            ]
          },
          "metadata": {},
          "execution_count": 7
        }
      ]
    },
    {
      "cell_type": "code",
      "source": [
        "!pip install qiskit\n"
      ],
      "metadata": {
        "colab": {
          "base_uri": "https://localhost:8080/"
        },
        "id": "y1h602j9M-Pf",
        "outputId": "7c3b26c9-7648-4d34-95c2-24faeefa78a4"
      },
      "execution_count": null,
      "outputs": [
        {
          "output_type": "stream",
          "name": "stdout",
          "text": [
            "Collecting qiskit\n",
            "  Downloading qiskit-0.44.1-py3-none-any.whl (8.2 kB)\n",
            "Collecting qiskit-terra==0.25.1 (from qiskit)\n",
            "  Downloading qiskit_terra-0.25.1-cp38-abi3-manylinux_2_17_x86_64.manylinux2014_x86_64.whl (6.1 MB)\n",
            "\u001b[2K     \u001b[90m━━━━━━━━━━━━━━━━━━━━━━━━━━━━━━━━━━━━━━━━\u001b[0m \u001b[32m6.1/6.1 MB\u001b[0m \u001b[31m32.1 MB/s\u001b[0m eta \u001b[36m0:00:00\u001b[0m\n",
            "\u001b[?25hCollecting rustworkx>=0.13.0 (from qiskit-terra==0.25.1->qiskit)\n",
            "  Downloading rustworkx-0.13.1-cp310-cp310-manylinux_2_17_x86_64.manylinux2014_x86_64.whl (2.0 MB)\n",
            "\u001b[2K     \u001b[90m━━━━━━━━━━━━━━━━━━━━━━━━━━━━━━━━━━━━━━━━\u001b[0m \u001b[32m2.0/2.0 MB\u001b[0m \u001b[31m46.9 MB/s\u001b[0m eta \u001b[36m0:00:00\u001b[0m\n",
            "\u001b[?25hRequirement already satisfied: numpy>=1.17 in /usr/local/lib/python3.10/dist-packages (from qiskit-terra==0.25.1->qiskit) (1.23.5)\n",
            "Collecting ply>=3.10 (from qiskit-terra==0.25.1->qiskit)\n",
            "  Downloading ply-3.11-py2.py3-none-any.whl (49 kB)\n",
            "\u001b[2K     \u001b[90m━━━━━━━━━━━━━━━━━━━━━━━━━━━━━━━━━━━━━━━━\u001b[0m \u001b[32m49.6/49.6 kB\u001b[0m \u001b[31m4.7 MB/s\u001b[0m eta \u001b[36m0:00:00\u001b[0m\n",
            "\u001b[?25hRequirement already satisfied: psutil>=5 in /usr/local/lib/python3.10/dist-packages (from qiskit-terra==0.25.1->qiskit) (5.9.5)\n",
            "Requirement already satisfied: scipy>=1.5 in /usr/local/lib/python3.10/dist-packages (from qiskit-terra==0.25.1->qiskit) (1.10.1)\n",
            "Requirement already satisfied: sympy>=1.3 in /usr/local/lib/python3.10/dist-packages (from qiskit-terra==0.25.1->qiskit) (1.12)\n",
            "Collecting dill>=0.3 (from qiskit-terra==0.25.1->qiskit)\n",
            "  Downloading dill-0.3.7-py3-none-any.whl (115 kB)\n",
            "\u001b[2K     \u001b[90m━━━━━━━━━━━━━━━━━━━━━━━━━━━━━━━━━━━━━━\u001b[0m \u001b[32m115.3/115.3 kB\u001b[0m \u001b[31m11.5 MB/s\u001b[0m eta \u001b[36m0:00:00\u001b[0m\n",
            "\u001b[?25hRequirement already satisfied: python-dateutil>=2.8.0 in /usr/local/lib/python3.10/dist-packages (from qiskit-terra==0.25.1->qiskit) (2.8.2)\n",
            "Collecting stevedore>=3.0.0 (from qiskit-terra==0.25.1->qiskit)\n",
            "  Downloading stevedore-5.1.0-py3-none-any.whl (49 kB)\n",
            "\u001b[2K     \u001b[90m━━━━━━━━━━━━━━━━━━━━━━━━━━━━━━━━━━━━━━━━\u001b[0m \u001b[32m49.6/49.6 kB\u001b[0m \u001b[31m3.4 MB/s\u001b[0m eta \u001b[36m0:00:00\u001b[0m\n",
            "\u001b[?25hCollecting symengine<0.10,>=0.9 (from qiskit-terra==0.25.1->qiskit)\n",
            "  Downloading symengine-0.9.2-cp310-cp310-manylinux2010_x86_64.whl (37.5 MB)\n",
            "\u001b[2K     \u001b[90m━━━━━━━━━━━━━━━━━━━━━━━━━━━━━━━━━━━━━━━━\u001b[0m \u001b[32m37.5/37.5 MB\u001b[0m \u001b[31m17.5 MB/s\u001b[0m eta \u001b[36m0:00:00\u001b[0m\n",
            "\u001b[?25hRequirement already satisfied: typing-extensions in /usr/local/lib/python3.10/dist-packages (from qiskit-terra==0.25.1->qiskit) (4.7.1)\n",
            "Requirement already satisfied: six>=1.5 in /usr/local/lib/python3.10/dist-packages (from python-dateutil>=2.8.0->qiskit-terra==0.25.1->qiskit) (1.16.0)\n",
            "Collecting pbr!=2.1.0,>=2.0.0 (from stevedore>=3.0.0->qiskit-terra==0.25.1->qiskit)\n",
            "  Downloading pbr-5.11.1-py2.py3-none-any.whl (112 kB)\n",
            "\u001b[2K     \u001b[90m━━━━━━━━━━━━━━━━━━━━━━━━━━━━━━━━━━━━━━\u001b[0m \u001b[32m112.7/112.7 kB\u001b[0m \u001b[31m12.8 MB/s\u001b[0m eta \u001b[36m0:00:00\u001b[0m\n",
            "\u001b[?25hRequirement already satisfied: mpmath>=0.19 in /usr/local/lib/python3.10/dist-packages (from sympy>=1.3->qiskit-terra==0.25.1->qiskit) (1.3.0)\n",
            "Installing collected packages: ply, symengine, rustworkx, pbr, dill, stevedore, qiskit-terra, qiskit\n",
            "Successfully installed dill-0.3.7 pbr-5.11.1 ply-3.11 qiskit-0.44.1 qiskit-terra-0.25.1 rustworkx-0.13.1 stevedore-5.1.0 symengine-0.9.2\n"
          ]
        }
      ]
    },
    {
      "cell_type": "code",
      "source": [
        "import numpy as np\n",
        "from qiskit.visualization import array_to_latex\n",
        "from IPython.display import display, Markdown"
      ],
      "metadata": {
        "id": "TxDs_DJPNWlf"
      },
      "execution_count": null,
      "outputs": []
    },
    {
      "cell_type": "code",
      "source": [
        "import numpy as np\n",
        "from qiskit.visualization import array_to_latex\n",
        "from IPython.display import display, Markdown\n",
        "\n",
        "def printMatrix(x):\n",
        "    nrows, ncols = np.shape(x)\n",
        "    upper_matrix = np.zeros((nrows, ncols))\n",
        "    lower_matrix = np.zeros((nrows, ncols))\n",
        "\n",
        "    for i in range(nrows):\n",
        "        upper_matrix[i][i:] = x[i][i:]\n",
        "\n",
        "    for i in range(ncols):\n",
        "        lower_matrix[i][:i+1] = x[i][:i+1]\n",
        "\n",
        "    array_to_latex(array=upper_matrix, prefix=\"Upper Triangular = \", max_size=(nrows, ncols))\n",
        "    latex_source = array_to_latex(array=upper_matrix, source=True, max_size=(nrows, ncols))\n",
        "    display(Markdown(latex_source))\n",
        "\n",
        "    array_to_latex(array=lower_matrix, prefix=\"Lower Triangular = \", max_size=(nrows, ncols))\n",
        "    latex_source = array_to_latex(array=lower_matrix, source=True, max_size=(nrows, ncols))\n",
        "    display(Markdown(latex_source))\n",
        "\n",
        "    return None\n"
      ],
      "metadata": {
        "id": "EAwPdz7IKJ5-"
      },
      "execution_count": null,
      "outputs": []
    },
    {
      "cell_type": "code",
      "source": [
        "printMatrix([[1,2,3],[4,5,6],[7,8,9]])"
      ],
      "metadata": {
        "colab": {
          "base_uri": "https://localhost:8080/",
          "height": 157
        },
        "id": "W0kXxwsOM8Oq",
        "outputId": "71a6aae8-0c22-4219-cf0c-66612fa0a90c"
      },
      "execution_count": null,
      "outputs": [
        {
          "output_type": "display_data",
          "data": {
            "text/plain": [
              "<IPython.core.display.Markdown object>"
            ],
            "text/markdown": "\n\n\\begin{bmatrix}\n1 & 2 & 3  \\\\\n 0 & 5 & 6  \\\\\n 0 & 0 & 9  \\\\\n \\end{bmatrix}\n"
          },
          "metadata": {}
        },
        {
          "output_type": "display_data",
          "data": {
            "text/plain": [
              "<IPython.core.display.Markdown object>"
            ],
            "text/markdown": "\n\n\\begin{bmatrix}\n1 & 0 & 0  \\\\\n 4 & 5 & 0  \\\\\n 7 & 8 & 9  \\\\\n \\end{bmatrix}\n"
          },
          "metadata": {}
        }
      ]
    },
    {
      "cell_type": "code",
      "source": [
        "def EuclNorm(A):\n",
        "  nrows, ncols = np.shape(A)\n",
        "  sum_of_squares = 0\n",
        "\n",
        "  for i in range(nrows):\n",
        "      for j in range(ncols):\n",
        "            sum_of_squares += A[i][j] ** 2\n",
        "\n",
        "  euclidean_norm = np.sqrt(sum_of_squares)\n",
        "  return euclidean_norm"
      ],
      "metadata": {
        "id": "iECOqLICNlh-"
      },
      "execution_count": null,
      "outputs": []
    },
    {
      "cell_type": "code",
      "source": [
        "def InfitiNorm(A):\n",
        "    nrows, ncols = np.shape(A)\n",
        "    max_ele = 0\n",
        "    for i in range(nrows):\n",
        "      for j in range(ncols):\n",
        "        abs_value = abs(A[i][j])\n",
        "        if (abs_value>max_ele):\n",
        "          max_ele = abs_value\n",
        "    return max_ele\n"
      ],
      "metadata": {
        "id": "lyBlm6zZPIjP"
      },
      "execution_count": null,
      "outputs": []
    },
    {
      "cell_type": "code",
      "source": [
        "import math\n",
        "def scale(row_i, λ,A):\n",
        "  n= np.shape(A)\n",
        "  matrix = np.zeros(n)\n",
        "  matrix[row_i][row_i] = λ\n",
        "  return np.matmul(matrix,A)\n"
      ],
      "metadata": {
        "id": "W4HGXsK7PkM5"
      },
      "execution_count": null,
      "outputs": []
    },
    {
      "cell_type": "code",
      "source": [
        "def pivot(row_i, row_j,A):\n",
        "    n = np.shape(A)\n",
        "    matrix = np.zeros(n)\n",
        "    matrix[row_i][row_j] = 1\n",
        "    matrix[row_j][row_i] = 1\n",
        "    return np.matmul(matrix,A)\n"
      ],
      "metadata": {
        "id": "9A4UBjKAg5AT"
      },
      "execution_count": null,
      "outputs": []
    },
    {
      "cell_type": "code",
      "source": [
        "pivot(0,1,[[1,2,3],[4,5,6],[7,8,9]])"
      ],
      "metadata": {
        "colab": {
          "base_uri": "https://localhost:8080/"
        },
        "id": "8BFW7BKPxaiP",
        "outputId": "c9e1aedc-1bbb-4b9c-e672-762ad5927e63"
      },
      "execution_count": null,
      "outputs": [
        {
          "output_type": "execute_result",
          "data": {
            "text/plain": [
              "array([[4., 5., 6.],\n",
              "       [1., 2., 3.],\n",
              "       [0., 0., 0.]])"
            ]
          },
          "metadata": {},
          "execution_count": 53
        }
      ]
    },
    {
      "cell_type": "code",
      "source": [
        "def elimin(row_i, row_j, λ, A):\n",
        "    n = A.shape[0]  # Get the number of rows\n",
        "    matrix = np.identity(n)\n",
        "    matrix[row_i][row_j] = λ\n",
        "    return np.matmul(matrix, A)"
      ],
      "metadata": {
        "id": "khS74gI4fVKb"
      },
      "execution_count": null,
      "outputs": []
    },
    {
      "cell_type": "code",
      "source": [
        "def TMatrix(A):\n",
        "    n = A.shape[0]\n",
        "    T = np.identity(n)\n",
        "\n",
        "    for i in range(0, n - 1):\n",
        "        for j in range(i + 1, n):\n",
        "            factor = A[j][i] / A[i][i]\n",
        "            A = elimin(j, i, -factor, A)  # Update A using elimin\n",
        "\n",
        "    return T"
      ],
      "metadata": {
        "id": "oWNV_BJ0hqdb"
      },
      "execution_count": null,
      "outputs": []
    },
    {
      "cell_type": "code",
      "source": [
        "A = np.array([[2, 1, -1],\n",
        "              [3, 2, 1],\n",
        "              [1, 1, 2]], dtype=float)\n",
        "\n",
        "T = TMatrix(A)"
      ],
      "metadata": {
        "id": "ruWA9runpjpl"
      },
      "execution_count": null,
      "outputs": []
    },
    {
      "cell_type": "code",
      "source": [
        "A = np.array([[1, 2, 3],\n",
        "              [4, 5, 6],\n",
        "              [7, 8, 9]], dtype=float)\n",
        "\n",
        "T = TMatrix(A)"
      ],
      "metadata": {
        "id": "9uhfaLmaroHB"
      },
      "execution_count": null,
      "outputs": []
    },
    {
      "cell_type": "code",
      "source": [
        "print(T)"
      ],
      "metadata": {
        "colab": {
          "base_uri": "https://localhost:8080/"
        },
        "id": "lkBpq5edpwsp",
        "outputId": "ff7baf57-b3c0-4f09-aa96-48a3b0614b64"
      },
      "execution_count": null,
      "outputs": [
        {
          "output_type": "stream",
          "name": "stdout",
          "text": [
            "[[1. 0. 0.]\n",
            " [0. 1. 0.]\n",
            " [0. 0. 1.]]\n"
          ]
        }
      ]
    },
    {
      "cell_type": "markdown",
      "source": [
        "###LAB_assignment_3\n",
        "Problem 1. For a given matrix A, the Euclidean ||A||E and infinity norms ||A||∞ are defined as"
      ],
      "metadata": {
        "id": "XoAwtZWcsO7G"
      }
    },
    {
      "cell_type": "code",
      "source": [
        "#with for loops\n",
        "\n",
        "def EuclNorm_loop(A):\n",
        "  nrows, ncols = np.shape(A)\n",
        "  sum_of_squares = 0\n",
        "\n",
        "  for i in range(nrows):\n",
        "      for j in range(ncols):\n",
        "            sum_of_squares += A[i][j] ** 2\n",
        "\n",
        "  euclidean_norm = np.sqrt(sum_of_squares)\n",
        "  return euclidean_norm"
      ],
      "metadata": {
        "id": "WuA9-NcurhtJ"
      },
      "execution_count": null,
      "outputs": []
    },
    {
      "cell_type": "code",
      "source": [
        "EuclNorm_loop([[1,2],[-1,3]])\n"
      ],
      "metadata": {
        "colab": {
          "base_uri": "https://localhost:8080/"
        },
        "id": "Gx9Ng029zm2T",
        "outputId": "80c77700-03b5-46f1-cb8b-988b89669426"
      },
      "execution_count": null,
      "outputs": [
        {
          "output_type": "execute_result",
          "data": {
            "text/plain": [
              "3.872983346207417"
            ]
          },
          "metadata": {},
          "execution_count": 74
        }
      ]
    },
    {
      "cell_type": "code",
      "source": [
        "#without using for loops\n",
        "def EuclNorm(A):\n",
        "  nrows,ncols = np.shape(A)\n",
        "  sum_squares = np.sum(np.square(A))\n",
        "  return np.sqrt(sum_squares)"
      ],
      "metadata": {
        "id": "USvq01Swsrxc"
      },
      "execution_count": null,
      "outputs": []
    },
    {
      "cell_type": "code",
      "source": [
        "EuclNorm([[1,2],[-1,3]])\n",
        "\n"
      ],
      "metadata": {
        "colab": {
          "base_uri": "https://localhost:8080/"
        },
        "id": "aQ1WoMydzIg5",
        "outputId": "e7aa8720-74cf-4d66-846a-e6822b264dca"
      },
      "execution_count": null,
      "outputs": [
        {
          "output_type": "execute_result",
          "data": {
            "text/plain": [
              "3.872983346207417"
            ]
          },
          "metadata": {},
          "execution_count": 75
        }
      ]
    },
    {
      "cell_type": "code",
      "source": [
        "def InfitiNorm_loop(A):\n",
        "    nrows, ncols = np.shape(A)\n",
        "    max_ele = 0\n",
        "    for i in range(nrows):\n",
        "      for j in range(ncols):\n",
        "        abs_value = abs(A[i][j])\n",
        "        if (abs_value>max_ele):\n",
        "          max_ele = abs_value\n",
        "    return max_ele"
      ],
      "metadata": {
        "id": "XSG8LpjcsZZq"
      },
      "execution_count": null,
      "outputs": []
    },
    {
      "cell_type": "code",
      "source": [
        "InfitiNorm_loop([[1,2],[-1,3]])"
      ],
      "metadata": {
        "colab": {
          "base_uri": "https://localhost:8080/"
        },
        "id": "k_4FbDLdzqci",
        "outputId": "136f9f50-42b2-4991-d526-fc69f1969877"
      },
      "execution_count": null,
      "outputs": [
        {
          "output_type": "execute_result",
          "data": {
            "text/plain": [
              "3"
            ]
          },
          "metadata": {},
          "execution_count": 78
        }
      ]
    },
    {
      "cell_type": "code",
      "source": [
        "#without loop\n",
        "def InfiniteNorm(A):\n",
        "  nrows,ncols = np.shape(A)\n",
        "  max_element = np.max(A)\n",
        "  return abs(max_element)"
      ],
      "metadata": {
        "id": "xIZDiI1euKtr"
      },
      "execution_count": null,
      "outputs": []
    },
    {
      "cell_type": "code",
      "source": [
        "InfiniteNorm([[1,5],[-1,3]])"
      ],
      "metadata": {
        "colab": {
          "base_uri": "https://localhost:8080/"
        },
        "id": "2KLWeZZPzyFD",
        "outputId": "52f15101-04ba-43c3-ca77-8a4b6e09b62d"
      },
      "execution_count": null,
      "outputs": [
        {
          "output_type": "execute_result",
          "data": {
            "text/plain": [
              "5"
            ]
          },
          "metadata": {},
          "execution_count": 79
        }
      ]
    },
    {
      "cell_type": "markdown",
      "source": [
        "###Problem2\n",
        "Problem 2. Consider a given augmented matrix (A|b).\n",
        "1. Write a method PrintAug(A, b) that prints the augmented matrix (A|b).\n",
        "2. Write function pivot(n,i,j) that interchanges rows i and j for any given n × n matrix."
      ],
      "metadata": {
        "id": "FWlOa5hTy7Ej"
      }
    },
    {
      "cell_type": "code",
      "source": [
        "def PrintAug(A,b):\n",
        "  n  = np.shape(A)\n",
        "  m = len(b)\n",
        "  matrix = np.concatenate((A, b[:,None]), axis=1)\n",
        "  return matrix\n"
      ],
      "metadata": {
        "id": "Puz-qhxxufXB"
      },
      "execution_count": null,
      "outputs": []
    },
    {
      "cell_type": "code",
      "source": [
        "A = np.array([[1, 2, 3],\n",
        "              [4, 5, 6],\n",
        "              [7, 8, 9]], dtype=int)\n",
        "b = np.array([1,2,3])\n",
        "PrintAug(A,b)"
      ],
      "metadata": {
        "colab": {
          "base_uri": "https://localhost:8080/",
          "height": 208
        },
        "id": "KDIDX6dAv2H6",
        "outputId": "35ca8437-cdab-476c-c9c4-adc26c6ca550"
      },
      "execution_count": null,
      "outputs": [
        {
          "output_type": "error",
          "ename": "NameError",
          "evalue": "ignored",
          "traceback": [
            "\u001b[0;31m---------------------------------------------------------------------------\u001b[0m",
            "\u001b[0;31mNameError\u001b[0m                                 Traceback (most recent call last)",
            "\u001b[0;32m<ipython-input-9-ce26c22b09b7>\u001b[0m in \u001b[0;36m<cell line: 5>\u001b[0;34m()\u001b[0m\n\u001b[1;32m      3\u001b[0m               [7, 8, 9]], dtype=int)\n\u001b[1;32m      4\u001b[0m \u001b[0mb\u001b[0m \u001b[0;34m=\u001b[0m \u001b[0mnp\u001b[0m\u001b[0;34m.\u001b[0m\u001b[0marray\u001b[0m\u001b[0;34m(\u001b[0m\u001b[0;34m[\u001b[0m\u001b[0;36m1\u001b[0m\u001b[0;34m,\u001b[0m\u001b[0;36m2\u001b[0m\u001b[0;34m,\u001b[0m\u001b[0;36m3\u001b[0m\u001b[0;34m]\u001b[0m\u001b[0;34m)\u001b[0m\u001b[0;34m\u001b[0m\u001b[0;34m\u001b[0m\u001b[0m\n\u001b[0;32m----> 5\u001b[0;31m \u001b[0mPrintAug\u001b[0m\u001b[0;34m(\u001b[0m\u001b[0mA\u001b[0m\u001b[0;34m,\u001b[0m\u001b[0mb\u001b[0m\u001b[0;34m)\u001b[0m\u001b[0;34m\u001b[0m\u001b[0;34m\u001b[0m\u001b[0m\n\u001b[0m",
            "\u001b[0;31mNameError\u001b[0m: name 'PrintAug' is not defined"
          ]
        }
      ]
    },
    {
      "cell_type": "code",
      "source": [
        "def pivot(row_i, row_j,A):\n",
        "    nrows,ncols = np.shape(A)\n",
        "    n = A.shape[0]\n",
        "    matrix = np.identity(n)\n",
        "    matrix[row_i][row_j] = 1\n",
        "    matrix[row_j][row_i] = 1\n",
        "    matrix[row_i][row_i] = 0\n",
        "    matrix[row_j][row_j] = 0\n",
        "    x = np.matmul(matrix,A)\n",
        "    array_to_latex ( array =x , prefix =\"Output = \", max_size =( nrows , ncols ) )\n",
        " # If max_size not set then matrix will have ellipses\n",
        "# print latex source only : Source = True\n",
        "    latex_source = array_to_latex ( array =x , source = True , max_size =( nrows , ncols ) )\n",
        " # If you are using Jupyter Notebook :\n",
        "    display ( Markdown ( latex_source ) )\n",
        "\n",
        "\n",
        "    return matrix\n",
        "\n"
      ],
      "metadata": {
        "id": "81EQv9_DwGXI"
      },
      "execution_count": null,
      "outputs": []
    },
    {
      "cell_type": "code",
      "source": [
        "!pip install qiskit"
      ],
      "metadata": {
        "colab": {
          "base_uri": "https://localhost:8080/"
        },
        "id": "P6stMlBIxMPI",
        "outputId": "793c2216-4da5-4456-a28d-8cb2cb06579f"
      },
      "execution_count": null,
      "outputs": [
        {
          "output_type": "stream",
          "name": "stdout",
          "text": [
            "Requirement already satisfied: qiskit in /usr/local/lib/python3.10/dist-packages (0.44.1)\n",
            "Requirement already satisfied: qiskit-terra==0.25.1 in /usr/local/lib/python3.10/dist-packages (from qiskit) (0.25.1)\n",
            "Requirement already satisfied: rustworkx>=0.13.0 in /usr/local/lib/python3.10/dist-packages (from qiskit-terra==0.25.1->qiskit) (0.13.1)\n",
            "Requirement already satisfied: numpy>=1.17 in /usr/local/lib/python3.10/dist-packages (from qiskit-terra==0.25.1->qiskit) (1.23.5)\n",
            "Requirement already satisfied: ply>=3.10 in /usr/local/lib/python3.10/dist-packages (from qiskit-terra==0.25.1->qiskit) (3.11)\n",
            "Requirement already satisfied: psutil>=5 in /usr/local/lib/python3.10/dist-packages (from qiskit-terra==0.25.1->qiskit) (5.9.5)\n",
            "Requirement already satisfied: scipy>=1.5 in /usr/local/lib/python3.10/dist-packages (from qiskit-terra==0.25.1->qiskit) (1.10.1)\n",
            "Requirement already satisfied: sympy>=1.3 in /usr/local/lib/python3.10/dist-packages (from qiskit-terra==0.25.1->qiskit) (1.12)\n",
            "Requirement already satisfied: dill>=0.3 in /usr/local/lib/python3.10/dist-packages (from qiskit-terra==0.25.1->qiskit) (0.3.7)\n",
            "Requirement already satisfied: python-dateutil>=2.8.0 in /usr/local/lib/python3.10/dist-packages (from qiskit-terra==0.25.1->qiskit) (2.8.2)\n",
            "Requirement already satisfied: stevedore>=3.0.0 in /usr/local/lib/python3.10/dist-packages (from qiskit-terra==0.25.1->qiskit) (5.1.0)\n",
            "Requirement already satisfied: symengine<0.10,>=0.9 in /usr/local/lib/python3.10/dist-packages (from qiskit-terra==0.25.1->qiskit) (0.9.2)\n",
            "Requirement already satisfied: typing-extensions in /usr/local/lib/python3.10/dist-packages (from qiskit-terra==0.25.1->qiskit) (4.7.1)\n",
            "Requirement already satisfied: six>=1.5 in /usr/local/lib/python3.10/dist-packages (from python-dateutil>=2.8.0->qiskit-terra==0.25.1->qiskit) (1.16.0)\n",
            "Requirement already satisfied: pbr!=2.1.0,>=2.0.0 in /usr/local/lib/python3.10/dist-packages (from stevedore>=3.0.0->qiskit-terra==0.25.1->qiskit) (5.11.1)\n",
            "Requirement already satisfied: mpmath>=0.19 in /usr/local/lib/python3.10/dist-packages (from sympy>=1.3->qiskit-terra==0.25.1->qiskit) (1.3.0)\n"
          ]
        }
      ]
    },
    {
      "cell_type": "code",
      "source": [
        "import numpy as np\n",
        "from qiskit.visualization import array_to_latex\n",
        "from IPython.display import display, Markdown\n",
        "\n",
        "pivot(0,1,np.array([[1,2,3],[4,5,6],[7,8,9]]))"
      ],
      "metadata": {
        "colab": {
          "base_uri": "https://localhost:8080/",
          "height": 90
        },
        "id": "313ML5rDwRUa",
        "outputId": "aaa6b7f0-4347-4cd3-d784-c6928748b61e"
      },
      "execution_count": null,
      "outputs": [
        {
          "output_type": "display_data",
          "data": {
            "text/plain": [
              "<IPython.core.display.Markdown object>"
            ],
            "text/markdown": "\n\n\\begin{bmatrix}\n4 & 5 & 6  \\\\\n 1 & 2 & 3  \\\\\n 7 & 8 & 9  \\\\\n \\end{bmatrix}\n"
          },
          "metadata": {}
        }
      ]
    },
    {
      "cell_type": "code",
      "source": [
        "import numpy as np\n",
        "\n",
        "A = np.random.randint(4 , size =( 4 , 4 ) )\n",
        "print(A)\n",
        "pivot(0,1,A)"
      ],
      "metadata": {
        "colab": {
          "base_uri": "https://localhost:8080/",
          "height": 246
        },
        "id": "fUbaF2ihwrht",
        "outputId": "d1993d10-bc89-46c7-c086-571b401aa58a"
      },
      "execution_count": null,
      "outputs": [
        {
          "output_type": "stream",
          "name": "stdout",
          "text": [
            "[[0 3 1 0]\n",
            " [3 1 3 2]\n",
            " [1 3 0 3]\n",
            " [1 0 0 2]]\n"
          ]
        },
        {
          "output_type": "display_data",
          "data": {
            "text/plain": [
              "<IPython.core.display.Markdown object>"
            ],
            "text/markdown": "\n\n\\begin{bmatrix}\n3 & 1 & 3 & 2  \\\\\n 0 & 3 & 1 & 0  \\\\\n 1 & 3 & 0 & 3  \\\\\n 1 & 0 & 0 & 2  \\\\\n \\end{bmatrix}\n"
          },
          "metadata": {}
        },
        {
          "output_type": "execute_result",
          "data": {
            "text/plain": [
              "array([[0., 1., 0., 0.],\n",
              "       [1., 0., 0., 0.],\n",
              "       [0., 0., 1., 0.],\n",
              "       [0., 0., 0., 1.]])"
            ]
          },
          "metadata": {},
          "execution_count": 86
        }
      ]
    },
    {
      "cell_type": "markdown",
      "source": [
        "###Assignment_2\n",
        "\n"
      ],
      "metadata": {
        "id": "fz5uJ0jDvNU2"
      }
    },
    {
      "cell_type": "code",
      "source": [
        "import math\n",
        "def scale(row_i, λ):\n",
        "  n= np.shape(A)\n",
        "  matrix = np.zeros(n)\n",
        "  matrix[row_i][row_i] = λ\n",
        "  return matrix\n"
      ],
      "metadata": {
        "id": "abXwnXvq1D1U"
      },
      "execution_count": null,
      "outputs": []
    },
    {
      "cell_type": "code",
      "source": [
        "def pivot(row_i, row_j):\n",
        "    n = np.shape(A)\n",
        "    matrix = np.zeros(n)\n",
        "    matrix[row_i][row_j] = 1\n",
        "    matrix[row_j][row_i] = 1\n",
        "    return matrix\n"
      ],
      "metadata": {
        "id": "_M07b-_ovT-l"
      },
      "execution_count": null,
      "outputs": []
    },
    {
      "cell_type": "code",
      "source": [
        "def elimin(row_i, row_j, λ):\n",
        "    n = A.shape[0]  # Get the number of rows\n",
        "    matrix = np.identity(n)\n",
        "    matrix[row_i][row_j] = λ\n",
        "    return matrix"
      ],
      "metadata": {
        "id": "G6bxbPHkvypr"
      },
      "execution_count": null,
      "outputs": []
    },
    {
      "cell_type": "code",
      "source": [
        "import numpy as np\n",
        "\n",
        "def elimin(row_i, row_j, λ):\n",
        "    n = A.shape[0]  # Get the number of rows\n",
        "    matrix = np.identity(n)\n",
        "    matrix[row_i][row_j] = λ\n",
        "    return matrix\n",
        "\n",
        "def Tmatrix(A):\n",
        "    n, m = A.shape\n",
        "    new_matrix = np.identity(n)\n",
        "    for i in range(n):\n",
        "        for j in range(i + 1, n):\n",
        "            scale = A[i][j] / A[j][j]\n",
        "            new_matrix = np.matmul(new_matrix, elimin(j, i, -scale))\n",
        "    return new_matrix\n",
        "\n",
        "A = np.array([[1, 2, 3],\n",
        "              [4, 5, 6],\n",
        "              [7, 8, 9]], dtype=float)\n",
        "\n",
        "T = Tmatrix(A)\n",
        "print(T)\n"
      ],
      "metadata": {
        "colab": {
          "base_uri": "https://localhost:8080/"
        },
        "id": "XFxG6ZDF0vL0",
        "outputId": "2e4b2076-5b67-4bf7-c822-7eb103927a02"
      },
      "execution_count": null,
      "outputs": [
        {
          "output_type": "stream",
          "name": "stdout",
          "text": [
            "[[ 1.          0.          0.        ]\n",
            " [-0.4         1.          0.        ]\n",
            " [-0.33333333 -0.66666667  1.        ]]\n"
          ]
        }
      ]
    },
    {
      "cell_type": "code",
      "source": [
        "import sys\n",
        "\n",
        "def matmul(A,B):\n",
        "  n,m = A.shape\n",
        "  m_1,n_1 = B.shape\n",
        "  matrix = np.identity(n)\n",
        "  num = 0\n",
        "  if (m !=m_1):\n",
        "\n",
        "    sys.exit(\"the matmultiplication is not possible\")\n",
        "  else:\n",
        "    for i in range(n):\n",
        "      for j in range(n_1):\n",
        "        sum = 0\n",
        "\n",
        "        sum = sum+(A[i][j]*B[j][i])\n",
        "        num=num+2\n",
        "      for k in range(n_1):\n",
        "        sum = sum+(A[i][k]*B[k][i+1])\n",
        "        num = num+2\n",
        "      for l in range(n_1):\n",
        "        sum = sum+(A[i][l]*B[l][i+2])\n",
        "        num = num+2\n",
        "      num = num-1\n",
        "    return num\n",
        "\n",
        "\n",
        "\n",
        "\n"
      ],
      "metadata": {
        "id": "2kuMrUTd1i3O"
      },
      "execution_count": null,
      "outputs": []
    },
    {
      "cell_type": "code",
      "source": [
        "A = np.array([[1, 2, 3],\n",
        "              [4, 5, 6],\n",
        "              [7, 8, 9]], dtype=float)\n",
        "B = np.array([[1, 2, 3],\n",
        "              [4, 5, 6],\n",
        "              [7, 8, 9]], dtype=float)\n",
        "matmul(A,B)\n"
      ],
      "metadata": {
        "colab": {
          "base_uri": "https://localhost:8080/",
          "height": 327
        },
        "id": "rh2gzRm0AzbM",
        "outputId": "2614e0fe-c54d-47e1-fe4f-c67ddc77bb73"
      },
      "execution_count": null,
      "outputs": [
        {
          "output_type": "error",
          "ename": "IndexError",
          "evalue": "ignored",
          "traceback": [
            "\u001b[0;31m---------------------------------------------------------------------------\u001b[0m",
            "\u001b[0;31mIndexError\u001b[0m                                Traceback (most recent call last)",
            "\u001b[0;32m<ipython-input-23-eb6d43fc7f84>\u001b[0m in \u001b[0;36m<cell line: 7>\u001b[0;34m()\u001b[0m\n\u001b[1;32m      5\u001b[0m               \u001b[0;34m[\u001b[0m\u001b[0;36m4\u001b[0m\u001b[0;34m,\u001b[0m \u001b[0;36m5\u001b[0m\u001b[0;34m,\u001b[0m \u001b[0;36m6\u001b[0m\u001b[0;34m]\u001b[0m\u001b[0;34m,\u001b[0m\u001b[0;34m\u001b[0m\u001b[0;34m\u001b[0m\u001b[0m\n\u001b[1;32m      6\u001b[0m               [7, 8, 9]], dtype=float)\n\u001b[0;32m----> 7\u001b[0;31m \u001b[0mmatmul\u001b[0m\u001b[0;34m(\u001b[0m\u001b[0mA\u001b[0m\u001b[0;34m,\u001b[0m\u001b[0mB\u001b[0m\u001b[0;34m)\u001b[0m\u001b[0;34m\u001b[0m\u001b[0;34m\u001b[0m\u001b[0m\n\u001b[0m",
            "\u001b[0;32m<ipython-input-22-f0b5ad51115f>\u001b[0m in \u001b[0;36mmatmul\u001b[0;34m(A, B)\u001b[0m\n\u001b[1;32m     20\u001b[0m         \u001b[0mnum\u001b[0m \u001b[0;34m=\u001b[0m \u001b[0mnum\u001b[0m\u001b[0;34m+\u001b[0m\u001b[0;36m2\u001b[0m\u001b[0;34m\u001b[0m\u001b[0;34m\u001b[0m\u001b[0m\n\u001b[1;32m     21\u001b[0m       \u001b[0;32mfor\u001b[0m \u001b[0ml\u001b[0m \u001b[0;32min\u001b[0m \u001b[0mrange\u001b[0m\u001b[0;34m(\u001b[0m\u001b[0mn_1\u001b[0m\u001b[0;34m)\u001b[0m\u001b[0;34m:\u001b[0m\u001b[0;34m\u001b[0m\u001b[0;34m\u001b[0m\u001b[0m\n\u001b[0;32m---> 22\u001b[0;31m         \u001b[0msum\u001b[0m \u001b[0;34m=\u001b[0m \u001b[0msum\u001b[0m\u001b[0;34m+\u001b[0m\u001b[0;34m(\u001b[0m\u001b[0mA\u001b[0m\u001b[0;34m[\u001b[0m\u001b[0mi\u001b[0m\u001b[0;34m]\u001b[0m\u001b[0;34m[\u001b[0m\u001b[0ml\u001b[0m\u001b[0;34m]\u001b[0m\u001b[0;34m*\u001b[0m\u001b[0mB\u001b[0m\u001b[0;34m[\u001b[0m\u001b[0ml\u001b[0m\u001b[0;34m]\u001b[0m\u001b[0;34m[\u001b[0m\u001b[0mi\u001b[0m\u001b[0;34m+\u001b[0m\u001b[0;36m2\u001b[0m\u001b[0;34m]\u001b[0m\u001b[0;34m)\u001b[0m\u001b[0;34m\u001b[0m\u001b[0;34m\u001b[0m\u001b[0m\n\u001b[0m\u001b[1;32m     23\u001b[0m         \u001b[0mnum\u001b[0m \u001b[0;34m=\u001b[0m \u001b[0mnum\u001b[0m\u001b[0;34m+\u001b[0m\u001b[0;36m2\u001b[0m\u001b[0;34m\u001b[0m\u001b[0;34m\u001b[0m\u001b[0m\n\u001b[1;32m     24\u001b[0m       \u001b[0mnum\u001b[0m \u001b[0;34m=\u001b[0m \u001b[0mnum\u001b[0m\u001b[0;34m-\u001b[0m\u001b[0;36m1\u001b[0m\u001b[0;34m\u001b[0m\u001b[0;34m\u001b[0m\u001b[0m\n",
            "\u001b[0;31mIndexError\u001b[0m: index 3 is out of bounds for axis 0 with size 3"
          ]
        }
      ]
    },
    {
      "cell_type": "code",
      "source": [
        "import sys\n",
        "import numpy as np\n",
        "\n",
        "def matmul(A, B):\n",
        "    n, m = A.shape\n",
        "    m_1, n_1 = B.shape\n",
        "    num = 0\n",
        "\n",
        "    if m != m_1:\n",
        "        sys.exit(\"Matrix multiplication is not possible due to dimension mismatch\")\n",
        "    else:\n",
        "        result = np.zeros((n, n_1))\n",
        "\n",
        "        for i in range(n):\n",
        "            for j in range(n_1):\n",
        "                for k in range(m):\n",
        "                    result[i][j] += A[i][k] * B[k][j]\n",
        "                    num += 2  # Counting multiplications and additions\n",
        "\n",
        "            num = num-3\n",
        "\n",
        "    return num\n",
        "\n",
        "A = np.array([[1, 2, 3],\n",
        "              [4, 5, 6],\n",
        "              [7, 8, 9]], dtype=float)\n",
        "\n",
        "B = np.array([[9, 8, 7],\n",
        "              [6, 5, 4],\n",
        "              [3, 2, 1]], dtype=float)\n",
        "\n",
        "operations = matmul(A, B)\n",
        "print(\"Number of arithmetic operations:\", operations)\n"
      ],
      "metadata": {
        "colab": {
          "base_uri": "https://localhost:8080/"
        },
        "id": "heMgYVNrA9pI",
        "outputId": "6e3270bd-0dfb-42e1-8062-1f360ec00f20"
      },
      "execution_count": null,
      "outputs": [
        {
          "output_type": "stream",
          "name": "stdout",
          "text": [
            "Number of arithmetic operations: 45\n"
          ]
        }
      ]
    },
    {
      "cell_type": "code",
      "source": [
        "import numpy as np\n",
        "import sys\n",
        "\n",
        "def checksym(A):\n",
        "  n = len(A[0])\n",
        "  for i in range(n):\n",
        "    for j in range(n):\n",
        "      if A[i][j] == A[j][i]:\n",
        "        pass\n",
        "      else:\n",
        "        sys.exit(\"not symmetric\")\n",
        "  return True\n",
        "\n",
        "\n"
      ],
      "metadata": {
        "id": "KBt0E3ORL6Xg"
      },
      "execution_count": null,
      "outputs": []
    },
    {
      "cell_type": "code",
      "source": [
        "A = np.array([[1, 2, 3],\n",
        "              [2, 4, 5],\n",
        "              [3, 5, 6]])\n",
        "checksym(A)"
      ],
      "metadata": {
        "colab": {
          "base_uri": "https://localhost:8080/"
        },
        "id": "uKvVYoHaLicg",
        "outputId": "d73cf1c0-7c58-44ce-b364-c6b106e0f3cf"
      },
      "execution_count": null,
      "outputs": [
        {
          "output_type": "execute_result",
          "data": {
            "text/plain": [
              "True"
            ]
          },
          "metadata": {},
          "execution_count": 10
        }
      ]
    },
    {
      "cell_type": "code",
      "source": [
        "import numpy as np\n",
        "def cholesky_decomposition(A):\n",
        "  n = len(A[0])\n",
        "  L = np.zeros_like(A,dtype= float)\n",
        "  for i in range(n):\n",
        "    for k in range(i,n):\n",
        "      if i == k:\n",
        "        L[i][k] = np.sqrt(A[i][k]-np.sum(L[i][:k]**2))\n",
        "      else:\n",
        "        L[i][k] = A[i][k] - np.sum(L[i][:k]*L[k][:k])/L[k][k]\n",
        "  return L\n",
        "\n",
        "\n",
        "\n"
      ],
      "metadata": {
        "id": "b4sKOXh6Msgk"
      },
      "execution_count": null,
      "outputs": []
    },
    {
      "cell_type": "code",
      "source": [
        "def gaus_seidal(A,b,x0,tol,max_iterations):\n",
        "  n = len(A[0])\n",
        "  x = x0.copy()\n",
        "  for k in range(max_iterations):\n",
        "    for i in range(n):\n",
        "      sum_term = np.sum(A[i][j]*x[j] for j in range(n) if j!=i)\n",
        "      x[i] = (b[i] - sum_term)/A[i][i]\n",
        "    if all(abs(x[i]-x0[i])< tol for i in range(n)):\n",
        "      return x\n",
        "    x0 = x.copy()\n",
        "  return x\n",
        "\n",
        "\n"
      ],
      "metadata": {
        "id": "SjjqIKn_brFb"
      },
      "execution_count": null,
      "outputs": []
    },
    {
      "cell_type": "code",
      "source": [
        "def jacobi(A,b,tol,max_iterations):\n",
        "  n = len(A[0])\n",
        "  x0 = [0,0,0]\n",
        "  x = x0.copy()\n",
        "  for k in range(max_iterations):\n",
        "    for i in range(n):\n",
        "\n",
        "\n",
        "\n"
      ],
      "metadata": {
        "id": "xKRSyJjkPj-n"
      },
      "execution_count": null,
      "outputs": []
    },
    {
      "cell_type": "markdown",
      "source": [
        "###Jacobi_Method\n",
        "Lab_assignment4\n"
      ],
      "metadata": {
        "id": "xmFYKkSlzFtB"
      }
    },
    {
      "cell_type": "code",
      "source": [
        "import numpy as np\n",
        "\n",
        "def termcrit(xolds, xnews):\n",
        "    errs = np.abs((xnews - xolds) / xnews)\n",
        "    return np.sum(errs)\n",
        "\n",
        "def CycTridJacobi(n, tol, max_iter):\n",
        "    x = np.ones(n)\n",
        "    xolds = np.copy(x)  # Initialize xolds\n",
        "    for iteration in range(max_iter):\n",
        "        x_new = np.zeros(n)\n",
        "\n",
        "        for i in range(n):\n",
        "            if i == 0:\n",
        "                x_new_i = (1 + x[1] + x[n-1]) / 4\n",
        "            elif 1 <= i <= n-2:  # Corrected condition\n",
        "                x_new_i = (1 + x[i+1] + x[i-1]) / 4\n",
        "            elif i == n-1:\n",
        "                x_new_i = (1 + x[0] + x[n-2]) / 4\n",
        "\n",
        "            # Update x with the new value\n",
        "            x[i] = x_new_i\n",
        "\n",
        "        # Calculate the error between the current and previous iterations\n",
        "        error = termcrit(xolds, x)\n",
        "\n",
        "        # Check if the error is less than the specified tolerance\n",
        "        if error < tol:\n",
        "            return x\n",
        "\n",
        "        # Update xolds with the current x values for the next iteration\n",
        "        xolds[:] = x\n",
        "\n",
        "    return x\n",
        "\n",
        "# Example usage\n"
      ],
      "metadata": {
        "id": "cP6gfTfmzHfH"
      },
      "execution_count": null,
      "outputs": []
    },
    {
      "cell_type": "code",
      "source": [
        "n = 4\n",
        "tolerance = 1e-5\n",
        "max_iterations = 200\n",
        "\n",
        "solution = CycTridJacobi(n, tolerance, max_iterations)\n",
        "print(\"Solution:\", solution)\n"
      ],
      "metadata": {
        "colab": {
          "base_uri": "https://localhost:8080/"
        },
        "id": "ol_vYBFN7cGN",
        "outputId": "94ffba0f-c672-43b2-e2f9-3a727c973515"
      },
      "execution_count": null,
      "outputs": [
        {
          "output_type": "stream",
          "name": "stdout",
          "text": [
            "Solution: [0.50000021 0.50000015 0.50000011 0.50000008]\n"
          ]
        }
      ]
    },
    {
      "cell_type": "code",
      "source": [
        "!pip install triang"
      ],
      "metadata": {
        "colab": {
          "base_uri": "https://localhost:8080/"
        },
        "id": "6ole4q6Z4nSD",
        "outputId": "84a53cd5-bc4d-4f50-d3d9-29c871802ed5"
      },
      "execution_count": null,
      "outputs": [
        {
          "output_type": "stream",
          "name": "stdout",
          "text": [
            "\u001b[31mERROR: Could not find a version that satisfies the requirement triang (from versions: none)\u001b[0m\u001b[31m\n",
            "\u001b[0m\u001b[31mERROR: No matching distribution found for triang\u001b[0m\u001b[31m\n",
            "\u001b[0m"
          ]
        }
      ]
    },
    {
      "cell_type": "code",
      "source": [
        "import numpy as np\n",
        "from triang import testcreate, testsolve\n",
        "import numpy as np\n",
        "def jacobi(A, bs, kmax=50, tol=1.e-6):\n",
        "    n = bs.size\n",
        "    xnews = np.zeros(n)\n",
        "    xolds = np.copy(xnews)  # Initialize xolds\n",
        "\n",
        "    for k in range(1, kmax):\n",
        "        for i in range(n):\n",
        "            slt = A[i, :i] @ xolds[:i]\n",
        "            sgt = A[i, i + 1:] @ xolds[i + 1:]\n",
        "            xnews[i] = (bs[i] - slt - sgt) / A[i, i]\n",
        "\n",
        "        err = np.sum(np.abs((xnews - xolds) / xnews))\n",
        "        print(k, xnews, err)\n",
        "\n",
        "        if err < tol:\n",
        "            break\n",
        "        else:\n",
        "            xolds[:] = xnews  # Update xolds for the next iteration\n",
        "\n",
        "    else:\n",
        "        xnews = None\n",
        "\n",
        "    return xnews\n",
        "\n",
        "# Example usage\n",
        "A = np.array([[4, -1, 0,0],\n",
        "              [-1, 4, -1,0],\n",
        "              [0, -1, 4,-1],\n",
        "               [0,0,-1,4]])\n",
        "bs = np.array([1, 1, 1])\n",
        "\n",
        "solution = jacobi(A, bs, kmax=50, tol=1e-6)\n",
        "print(\"Solution:\", solution)\n"
      ],
      "metadata": {
        "colab": {
          "base_uri": "https://localhost:8080/",
          "height": 393
        },
        "id": "F-wmlGCY2FaO",
        "outputId": "c5f62093-c843-4e20-f76f-0e58260cb8db"
      },
      "execution_count": null,
      "outputs": [
        {
          "output_type": "error",
          "ename": "ModuleNotFoundError",
          "evalue": "ignored",
          "traceback": [
            "\u001b[0;31m---------------------------------------------------------------------------\u001b[0m",
            "\u001b[0;31mModuleNotFoundError\u001b[0m                       Traceback (most recent call last)",
            "\u001b[0;32m<ipython-input-6-247cae98bbf2>\u001b[0m in \u001b[0;36m<cell line: 2>\u001b[0;34m()\u001b[0m\n\u001b[1;32m      1\u001b[0m \u001b[0;32mimport\u001b[0m \u001b[0mnumpy\u001b[0m \u001b[0;32mas\u001b[0m \u001b[0mnp\u001b[0m\u001b[0;34m\u001b[0m\u001b[0;34m\u001b[0m\u001b[0m\n\u001b[0;32m----> 2\u001b[0;31m \u001b[0;32mfrom\u001b[0m \u001b[0mtriang\u001b[0m \u001b[0;32mimport\u001b[0m \u001b[0mtestcreate\u001b[0m\u001b[0;34m,\u001b[0m \u001b[0mtestsolve\u001b[0m\u001b[0;34m\u001b[0m\u001b[0;34m\u001b[0m\u001b[0m\n\u001b[0m\u001b[1;32m      3\u001b[0m \u001b[0;32mimport\u001b[0m \u001b[0mnumpy\u001b[0m \u001b[0;32mas\u001b[0m \u001b[0mnp\u001b[0m\u001b[0;34m\u001b[0m\u001b[0;34m\u001b[0m\u001b[0m\n\u001b[1;32m      4\u001b[0m \u001b[0;32mdef\u001b[0m \u001b[0mjacobi\u001b[0m\u001b[0;34m(\u001b[0m\u001b[0mA\u001b[0m\u001b[0;34m,\u001b[0m \u001b[0mbs\u001b[0m\u001b[0;34m,\u001b[0m \u001b[0mkmax\u001b[0m\u001b[0;34m=\u001b[0m\u001b[0;36m50\u001b[0m\u001b[0;34m,\u001b[0m \u001b[0mtol\u001b[0m\u001b[0;34m=\u001b[0m\u001b[0;36m1.e-6\u001b[0m\u001b[0;34m)\u001b[0m\u001b[0;34m:\u001b[0m\u001b[0;34m\u001b[0m\u001b[0;34m\u001b[0m\u001b[0m\n\u001b[1;32m      5\u001b[0m     \u001b[0mn\u001b[0m \u001b[0;34m=\u001b[0m \u001b[0mbs\u001b[0m\u001b[0;34m.\u001b[0m\u001b[0msize\u001b[0m\u001b[0;34m\u001b[0m\u001b[0;34m\u001b[0m\u001b[0m\n",
            "\u001b[0;31mModuleNotFoundError\u001b[0m: No module named 'triang'",
            "",
            "\u001b[0;31m---------------------------------------------------------------------------\u001b[0;32m\nNOTE: If your import is failing due to a missing package, you can\nmanually install dependencies using either !pip or !apt.\n\nTo view examples of installing some common dependencies, click the\n\"Open Examples\" button below.\n\u001b[0;31m---------------------------------------------------------------------------\u001b[0m\n"
          ],
          "errorDetails": {
            "actions": [
              {
                "action": "open_url",
                "actionText": "Open Examples",
                "url": "/notebooks/snippets/importing_libraries.ipynb"
              }
            ]
          }
        }
      ]
    },
    {
      "cell_type": "markdown",
      "source": [
        "###Lab_assignment_5"
      ],
      "metadata": {
        "id": "ClEicZwjylZA"
      }
    },
    {
      "cell_type": "markdown",
      "source": [],
      "metadata": {
        "id": "H9YOe1opylRm"
      }
    },
    {
      "cell_type": "code",
      "source": [
        "from math import exp, sqrt\n",
        "\n",
        "def bisection(f, x0, x1, kmax=200, tol=1e-8):\n",
        "    f0 = f(x0)\n",
        "    f1 = f(x1)\n",
        "\n",
        "    if f0 * f1 > 0:\n",
        "        print(\"Initial values do not have different signs. Bisection method may not converge.\")\n",
        "        return None\n",
        "\n",
        "    for k in range(1, kmax):\n",
        "        x2 = (x0 + x1) / 2\n",
        "        f2 = f(x2)\n",
        "\n",
        "        if f0 * f2 < 0:\n",
        "            x1 = x2\n",
        "        else:\n",
        "            x0, f0 = x2, f2\n",
        "\n",
        "        x2new = (x0 + x1) / 2\n",
        "        xdiff = abs(x2new - x2)\n",
        "        rowf = \"{0:2d} {1:.7f} {2:.7f} {3:.7f}\"\n",
        "\n",
        "        if abs(xdiff / x2new) < tol:\n",
        "            print(rowf.format(k, x2new, xdiff, abs(f(x2new))))\n",
        "            break\n",
        "    else:\n",
        "        x2new = None\n",
        "\n",
        "    return x2new\n",
        "\n",
        "# Example usage\n"
      ],
      "metadata": {
        "colab": {
          "base_uri": "https://localhost:8080/"
        },
        "id": "ATzVdkWZ37Sf",
        "outputId": "1c3a823b-6cea-4e41-d56f-b84704aa1092"
      },
      "execution_count": null,
      "outputs": [
        {
          "output_type": "stream",
          "name": "stdout",
          "text": [
            "27 1.4142136 0.0000000 0.0000000\n"
          ]
        }
      ]
    },
    {
      "cell_type": "code",
      "source": [
        "def f(x):\n",
        "  return pow(x,2) - 2\n",
        "\n",
        "x0 = -2.0\n",
        "x1 = 2.0\n",
        "result = bisection(f, x0, x1, kmax=200, tol=1e-8)\n"
      ],
      "metadata": {
        "colab": {
          "base_uri": "https://localhost:8080/"
        },
        "id": "SHyvQwr66VQl",
        "outputId": "fbede231-7c25-4222-94b7-b73107363050"
      },
      "execution_count": null,
      "outputs": [
        {
          "output_type": "stream",
          "name": "stdout",
          "text": [
            "Initial values do not have different signs. Bisection method may not converge.\n"
          ]
        }
      ]
    },
    {
      "cell_type": "code",
      "source": [
        "\n",
        "\n",
        "def numerical_derivative(g, x, h=1e-6):\n",
        "    return (g(x + h) - g(x)) / h\n",
        "\n",
        "def check_convergence(x0, g, tol):\n",
        "    # Use numerical differentiation to estimate the Lipschitz constant at the initial guess x0\n",
        "    m = abs(numerical_derivative(g, x0))\n",
        "\n",
        "    # Check if the initial guess satisfies the convergence condition\n",
        "    if m >= 1:\n",
        "        print(\"Convergence condition not satisfied. Choose a different initial guess.\")\n",
        "        return None\n",
        "\n",
        "    return x0\n",
        "\n",
        "def fixedpoint(g, x0, kmax=200, tol=1.e-8):\n",
        "    xold = check_convergence(x0, g, tol)\n",
        "\n",
        "    if xold is None:\n",
        "        return None\n",
        "\n",
        "    for k in range(1, kmax):\n",
        "        xnew = g(xold)\n",
        "        xdiff = abs(xnew - xold)\n",
        "\n",
        "        print(\"{0:2d} {1:.7f} {2:.7f}\".format(k, xnew, xdiff))\n",
        "\n",
        "        if xdiff < tol:\n",
        "            break\n",
        "\n",
        "        xold = xnew\n",
        "    else:\n",
        "        xnew = None\n",
        "\n",
        "    return xnew\n",
        "\n"
      ],
      "metadata": {
        "id": "eXJJsHPy3KMO"
      },
      "execution_count": null,
      "outputs": []
    },
    {
      "cell_type": "code",
      "source": [
        "def g(x):\n",
        "\n",
        "    return 0.5 * (x + 2/x)\n",
        "\n",
        "\n",
        "\n",
        "result = fixedpoint(g, 2, kmax=200, tol=1.e-8)\n"
      ],
      "metadata": {
        "colab": {
          "base_uri": "https://localhost:8080/"
        },
        "id": "_L3wndQx5FNN",
        "outputId": "eb13e293-baa4-4461-89c2-01f211519e26"
      },
      "execution_count": null,
      "outputs": [
        {
          "output_type": "stream",
          "name": "stdout",
          "text": [
            " 1 1.5000000 0.5000000\n",
            " 2 1.4166667 0.0833333\n",
            " 3 1.4142157 0.0024510\n",
            " 4 1.4142136 0.0000021\n",
            " 5 1.4142136 0.0000000\n"
          ]
        }
      ]
    },
    {
      "cell_type": "markdown",
      "source": [
        "###LAB-6\n"
      ],
      "metadata": {
        "id": "2Hp0PO976N11"
      }
    },
    {
      "cell_type": "code",
      "source": [
        "import math\n",
        "\n",
        "def evaluate_exp(x, delta_x=1e-6):\n",
        "    result = 1.0  # Initialize with the first term\n",
        "    term = 1.0\n",
        "    n = 1\n",
        "    true_value = math.exp(x)\n",
        "\n",
        "    while abs(term) > delta_x:\n",
        "        term *= x / n  # Calculate the next term based on the previous term\n",
        "        result += term\n",
        "        n += 1\n",
        "\n",
        "    # Calculate the relative error\n",
        "    relative_error = abs(result - true_value) / true_value\n",
        "\n",
        "    return result, relative_error, n\n",
        "\n",
        "# Test the function with e^3\n",
        "x = 3.0\n",
        "result, error,n = evaluate_exp(x)\n",
        "\n",
        "print(f\"e^{x} using Taylor series: {result}\")\n",
        "print(f\"Relative error: {error}\")\n",
        "print(n)\n"
      ],
      "metadata": {
        "colab": {
          "base_uri": "https://localhost:8080/"
        },
        "id": "iYdvKfq27jUf",
        "outputId": "64b4ecab-6f7a-469f-86b6-1a711c43f3f9"
      },
      "execution_count": null,
      "outputs": [
        {
          "output_type": "stream",
          "name": "stdout",
          "text": [
            "e^3.0 using Taylor series: 20.08553685145113\n",
            "Relative error: 3.571551857698706e-09\n",
            "18\n"
          ]
        }
      ]
    },
    {
      "cell_type": "code",
      "source": [
        "import math\n",
        "\n",
        "def f(x):\n",
        "    if x < 0:\n",
        "        return float('inf')  # Return positive infinity for invalid x\n",
        "    return math.exp(x - math.sqrt(x) ) - x\n",
        "\n",
        "def convergence_criterion(x_k, x_k_1, tolerance):\n",
        "    return abs((x_k - x_k_1) / x_k_1) <= tolerance\n",
        "\n",
        "def custom_root_finding_algorithm(initial_guess, tolerance, max_iterations):\n",
        "    x_k_1 = initial_guess\n",
        "    iteration = 1\n",
        "\n",
        "    while iteration < max_iterations:\n",
        "        f_x_k_1 = f(x_k_1)\n",
        "        f_x_k_1_plus_f_x_k_1 = f(x_k_1 + f_x_k_1)\n",
        "\n",
        "        x_k = x_k_1 - (f_x_k_1**2) / (f_x_k_1_plus_f_x_k_1 - f_x_k_1)\n",
        "\n",
        "        if convergence_criterion(x_k, x_k_1, tolerance):\n",
        "            return x_k\n",
        "\n",
        "        x_k_1 = x_k\n",
        "        iteration += 1\n",
        "\n",
        "    return None  # Return None when convergence is not achieved within the maximum number of iterations\n",
        "\n",
        "# Set initial guess, tolerance, and maximum iterations\n",
        "initial_guess = 2.0\n",
        "tolerance = 1e-6\n",
        "max_iterations = 100  # Increase the maximum number of iterations\n",
        "\n",
        "# Call the custom root-finding algorithm\n",
        "root = custom_root_finding_algorithm(initial_guess, tolerance, max_iterations)\n",
        "\n",
        "if root is not None:\n",
        "    print(f\"Estimated root: {root}\")\n",
        "else:\n",
        "    print(\"The algorithm did not converge within the maximum number of iterations.\")\n"
      ],
      "metadata": {
        "colab": {
          "base_uri": "https://localhost:8080/"
        },
        "id": "wT5JfwSgAy2G",
        "outputId": "7d3e546c-eff7-45e0-e449-c74b8ace01d4"
      },
      "execution_count": null,
      "outputs": [
        {
          "output_type": "stream",
          "name": "stdout",
          "text": [
            "Estimated root: 2.4909093169548036\n"
          ]
        }
      ]
    },
    {
      "cell_type": "code",
      "source": [
        "def f(x):\n",
        "    return x**3 - 2\n",
        "\n",
        "def convergence_criterion(x_k, x_k_1, tolerance):\n",
        "    return abs((x_k - x_k_1) / x_k_1) <= tolerance\n",
        "\n",
        "def custom_root_finding_algorithm(initial_guess, tolerance, max_iterations):\n",
        "    x_k_1 = initial_guess\n",
        "    iteration = 0\n",
        "\n",
        "    while iteration < max_iterations:\n",
        "        x_k = x_k_1 - (f(x_k_1)**2) / (f(x_k_1 + f(x_k_1)) - f(x_k_1))\n",
        "\n",
        "        if convergence_criterion(x_k, x_k_1, tolerance):\n",
        "            return x_k\n",
        "\n",
        "        x_k_1 = x_k\n",
        "        iteration += 1\n",
        "\n",
        "    return None  # Return None when convergence is not achieved within the maximum number of iterations\n",
        "\n",
        "# Set initial guess, tolerance, and maximum iterations\n",
        "initial_guess = 1.0\n",
        "tolerance = 1e-6\n",
        "max_iterations = 1000\n",
        "\n",
        "# Call the custom root-finding algorithm\n",
        "root = custom_root_finding_algorithm(initial_guess, tolerance, max_iterations)\n",
        "\n",
        "if root is not None:\n",
        "    print(f\"Estimated root: {root}\")\n",
        "else:\n",
        "    print(\"The algorithm did not converge within the maximum number of iterations.\")\n"
      ],
      "metadata": {
        "colab": {
          "base_uri": "https://localhost:8080/"
        },
        "id": "F8Sdc1lRBQFn",
        "outputId": "f6b87152-3cc6-44ed-a57c-625b6ac6f85a"
      },
      "execution_count": null,
      "outputs": [
        {
          "output_type": "stream",
          "name": "stdout",
          "text": [
            "Estimated root: 1.2599210498948732\n"
          ]
        }
      ]
    },
    {
      "cell_type": "code",
      "source": [],
      "metadata": {
        "id": "EltH7w3FCpXr"
      },
      "execution_count": null,
      "outputs": []
    }
  ]
}